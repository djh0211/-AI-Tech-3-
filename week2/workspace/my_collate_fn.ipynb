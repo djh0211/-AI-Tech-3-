{
  "nbformat": 4,
  "nbformat_minor": 0,
  "metadata": {
    "colab": {
      "name": "my_collate_fn",
      "provenance": [],
      "collapsed_sections": []
    },
    "kernelspec": {
      "name": "python3",
      "display_name": "Python 3"
    },
    "language_info": {
      "name": "python"
    }
  },
  "cells": [
    {
      "cell_type": "code",
      "execution_count": null,
      "metadata": {
        "id": "SduWnj-Vcq2B"
      },
      "outputs": [],
      "source": [
        "def my_collate_fn(samples):\n",
        "    collate_X = []\n",
        "    collate_y = []\n",
        "    ######################################TODO######################################\n",
        "    max_len = max([len(sample['X']) for sample in samples])\n",
        "    for sample in samples:\n",
        "        diff = max_len-len(sample['X'])\n",
        "        if diff > 0:\n",
        "            zero_pad = torch.zeros(size=(diff,))\n",
        "            collate_X.append(torch.cat([sample['X'], zero_pad], dim=0))\n",
        "        else:\n",
        "            collate_X.append(sample['X'])\n",
        "    collate_y = [sample['y'] for sample in samples]\n",
        "    ################################################################################\n",
        "    return {'X': torch.stack(collate_X),\n",
        "             'y': torch.stack(collate_y)}\n"
      ]
    }
  ]
}